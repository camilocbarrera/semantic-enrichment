{
 "cells": [
  {
   "cell_type": "markdown",
   "id": "a045a74a",
   "metadata": {},
   "source": [
    "# semantic-enrichment\n",
    "- Valeria\n",
    "- Fabian\n",
    "- Cristian"
   ]
  },
  {
   "cell_type": "code",
   "execution_count": 1,
   "id": "252eb18c",
   "metadata": {},
   "outputs": [],
   "source": [
    "from rdflib import Graph\n",
    "from SPARQLWrapper import SPARQLWrapper, JSON, N3\n",
    "from pprint import pprint\n",
    "import pandas as pd"
   ]
  },
  {
   "cell_type": "code",
   "execution_count": 2,
   "id": "fba99a67",
   "metadata": {},
   "outputs": [
    {
     "data": {
      "text/plain": [
       "<SPARQLWrapper.Wrapper.SPARQLWrapper at 0x2acf5765820>"
      ]
     },
     "execution_count": 2,
     "metadata": {},
     "output_type": "execute_result"
    }
   ],
   "source": [
    "sparql = SPARQLWrapper('https://dbpedia.org/sparql')\n",
    "sparql"
   ]
  },
  {
   "cell_type": "code",
   "execution_count": 48,
   "id": "23ef1b8e",
   "metadata": {},
   "outputs": [
    {
     "data": {
      "text/plain": [
       "{'head': {'link': [],\n",
       "  'vars': ['name', 'director', 'country', 'starring', 'abstract']},\n",
       " 'results': {'distinct': False,\n",
       "  'ordered': True,\n",
       "  'bindings': [{'name': {'type': 'literal',\n",
       "     'xml:lang': 'en',\n",
       "     'value': 'Forrest Gump'},\n",
       "    'director': {'type': 'uri',\n",
       "     'value': 'http://dbpedia.org/resource/Robert_Zemeckis'},\n",
       "    'country': {'type': 'literal', 'xml:lang': 'en', 'value': 'United States'},\n",
       "    'starring': {'type': 'literal', 'xml:lang': 'en', 'value': 'Tom Hanks'},\n",
       "    'abstract': {'type': 'literal',\n",
       "     'xml:lang': 'en',\n",
       "     'value': 'Forrest Gump is a 1994 American comedy-drama film directed by Robert Zemeckis and written by Eric Roth. It is based on the 1986 novel of the same name by Winston Groom and stars Tom Hanks, Robin Wright, Gary Sinise, Mykelti Williamson and Sally Field. The story depicts several decades in the life of Forrest Gump (Hanks), a slow-witted and kindhearted man from Alabama who witnesses and unwittingly influences several defining historical events in the 20th-century United States. The film differs substantially from the novel. Principal photography took place between August and December 1993, mainly in Georgia, North Carolina and South Carolina. Extensive visual effects were used to incorporate Hanks into archived footage and to develop other scenes. The soundtrack features songs reflecting the different periods seen in the film. Forrest Gump was released in the United States on July 6, 1994, and received generally favorable reviews for Zemeckis\\'s direction, performances (particularly that of Hanks and Sinise), visual effects, music, and screenplay. The film was an enormous success at the box office; it became the top-grossing film in America released that year and earned over US$677 million worldwide during its theatrical run, making it the second-highest-grossing film of 1994, behind The Lion King. The soundtrack sold over 12 million copies. Forrest Gump won six Academy Awards: Best Picture, Best Director, Best Actor for Hanks, Best Adapted Screenplay, Best Visual Effects, and Best Film Editing. It received many award nominations, including Golden Globes, British Academy Film Awards and Screen Actors Guild Awards. Varying interpretations have been made of the protagonist and the film\\'s political symbolism. In 2011, the Library of Congress selected the film for preservation in the United States National Film Registry as being \"culturally, historically, or aesthetically significant\". An official Indian film remake Laal Singh Chaddha starring Aamir Khan and Kareena Kapoor Khan is scheduled to be released on April 14, 2022.'}},\n",
       "   {'name': {'type': 'literal', 'xml:lang': 'en', 'value': 'Forrest Gump'},\n",
       "    'director': {'type': 'uri',\n",
       "     'value': 'http://dbpedia.org/resource/Robert_Zemeckis'},\n",
       "    'country': {'type': 'literal', 'xml:lang': 'en', 'value': 'United States'},\n",
       "    'starring': {'type': 'literal', 'xml:lang': 'en', 'value': ''},\n",
       "    'abstract': {'type': 'literal',\n",
       "     'xml:lang': 'en',\n",
       "     'value': 'Forrest Gump is a 1994 American comedy-drama film directed by Robert Zemeckis and written by Eric Roth. It is based on the 1986 novel of the same name by Winston Groom and stars Tom Hanks, Robin Wright, Gary Sinise, Mykelti Williamson and Sally Field. The story depicts several decades in the life of Forrest Gump (Hanks), a slow-witted and kindhearted man from Alabama who witnesses and unwittingly influences several defining historical events in the 20th-century United States. The film differs substantially from the novel. Principal photography took place between August and December 1993, mainly in Georgia, North Carolina and South Carolina. Extensive visual effects were used to incorporate Hanks into archived footage and to develop other scenes. The soundtrack features songs reflecting the different periods seen in the film. Forrest Gump was released in the United States on July 6, 1994, and received generally favorable reviews for Zemeckis\\'s direction, performances (particularly that of Hanks and Sinise), visual effects, music, and screenplay. The film was an enormous success at the box office; it became the top-grossing film in America released that year and earned over US$677 million worldwide during its theatrical run, making it the second-highest-grossing film of 1994, behind The Lion King. The soundtrack sold over 12 million copies. Forrest Gump won six Academy Awards: Best Picture, Best Director, Best Actor for Hanks, Best Adapted Screenplay, Best Visual Effects, and Best Film Editing. It received many award nominations, including Golden Globes, British Academy Film Awards and Screen Actors Guild Awards. Varying interpretations have been made of the protagonist and the film\\'s political symbolism. In 2011, the Library of Congress selected the film for preservation in the United States National Film Registry as being \"culturally, historically, or aesthetically significant\". An official Indian film remake Laal Singh Chaddha starring Aamir Khan and Kareena Kapoor Khan is scheduled to be released on April 14, 2022.'}},\n",
       "   {'name': {'type': 'literal', 'xml:lang': 'en', 'value': 'Forrest Gump'},\n",
       "    'director': {'type': 'uri',\n",
       "     'value': 'http://dbpedia.org/resource/Robert_Zemeckis'},\n",
       "    'country': {'type': 'literal', 'xml:lang': 'en', 'value': 'United States'},\n",
       "    'starring': {'type': 'literal', 'xml:lang': 'en', 'value': 'Robin Wright'},\n",
       "    'abstract': {'type': 'literal',\n",
       "     'xml:lang': 'en',\n",
       "     'value': 'Forrest Gump is a 1994 American comedy-drama film directed by Robert Zemeckis and written by Eric Roth. It is based on the 1986 novel of the same name by Winston Groom and stars Tom Hanks, Robin Wright, Gary Sinise, Mykelti Williamson and Sally Field. The story depicts several decades in the life of Forrest Gump (Hanks), a slow-witted and kindhearted man from Alabama who witnesses and unwittingly influences several defining historical events in the 20th-century United States. The film differs substantially from the novel. Principal photography took place between August and December 1993, mainly in Georgia, North Carolina and South Carolina. Extensive visual effects were used to incorporate Hanks into archived footage and to develop other scenes. The soundtrack features songs reflecting the different periods seen in the film. Forrest Gump was released in the United States on July 6, 1994, and received generally favorable reviews for Zemeckis\\'s direction, performances (particularly that of Hanks and Sinise), visual effects, music, and screenplay. The film was an enormous success at the box office; it became the top-grossing film in America released that year and earned over US$677 million worldwide during its theatrical run, making it the second-highest-grossing film of 1994, behind The Lion King. The soundtrack sold over 12 million copies. Forrest Gump won six Academy Awards: Best Picture, Best Director, Best Actor for Hanks, Best Adapted Screenplay, Best Visual Effects, and Best Film Editing. It received many award nominations, including Golden Globes, British Academy Film Awards and Screen Actors Guild Awards. Varying interpretations have been made of the protagonist and the film\\'s political symbolism. In 2011, the Library of Congress selected the film for preservation in the United States National Film Registry as being \"culturally, historically, or aesthetically significant\". An official Indian film remake Laal Singh Chaddha starring Aamir Khan and Kareena Kapoor Khan is scheduled to be released on April 14, 2022.'}},\n",
       "   {'name': {'type': 'literal', 'xml:lang': 'en', 'value': 'Forrest Gump'},\n",
       "    'director': {'type': 'uri',\n",
       "     'value': 'http://dbpedia.org/resource/Robert_Zemeckis'},\n",
       "    'country': {'type': 'literal', 'xml:lang': 'en', 'value': 'United States'},\n",
       "    'starring': {'type': 'literal', 'xml:lang': 'en', 'value': 'Gary Sinise'},\n",
       "    'abstract': {'type': 'literal',\n",
       "     'xml:lang': 'en',\n",
       "     'value': 'Forrest Gump is a 1994 American comedy-drama film directed by Robert Zemeckis and written by Eric Roth. It is based on the 1986 novel of the same name by Winston Groom and stars Tom Hanks, Robin Wright, Gary Sinise, Mykelti Williamson and Sally Field. The story depicts several decades in the life of Forrest Gump (Hanks), a slow-witted and kindhearted man from Alabama who witnesses and unwittingly influences several defining historical events in the 20th-century United States. The film differs substantially from the novel. Principal photography took place between August and December 1993, mainly in Georgia, North Carolina and South Carolina. Extensive visual effects were used to incorporate Hanks into archived footage and to develop other scenes. The soundtrack features songs reflecting the different periods seen in the film. Forrest Gump was released in the United States on July 6, 1994, and received generally favorable reviews for Zemeckis\\'s direction, performances (particularly that of Hanks and Sinise), visual effects, music, and screenplay. The film was an enormous success at the box office; it became the top-grossing film in America released that year and earned over US$677 million worldwide during its theatrical run, making it the second-highest-grossing film of 1994, behind The Lion King. The soundtrack sold over 12 million copies. Forrest Gump won six Academy Awards: Best Picture, Best Director, Best Actor for Hanks, Best Adapted Screenplay, Best Visual Effects, and Best Film Editing. It received many award nominations, including Golden Globes, British Academy Film Awards and Screen Actors Guild Awards. Varying interpretations have been made of the protagonist and the film\\'s political symbolism. In 2011, the Library of Congress selected the film for preservation in the United States National Film Registry as being \"culturally, historically, or aesthetically significant\". An official Indian film remake Laal Singh Chaddha starring Aamir Khan and Kareena Kapoor Khan is scheduled to be released on April 14, 2022.'}},\n",
       "   {'name': {'type': 'literal', 'xml:lang': 'en', 'value': 'Forrest Gump'},\n",
       "    'director': {'type': 'uri',\n",
       "     'value': 'http://dbpedia.org/resource/Robert_Zemeckis'},\n",
       "    'country': {'type': 'literal', 'xml:lang': 'en', 'value': 'United States'},\n",
       "    'starring': {'type': 'literal',\n",
       "     'xml:lang': 'en',\n",
       "     'value': 'Mykelti Williamson'},\n",
       "    'abstract': {'type': 'literal',\n",
       "     'xml:lang': 'en',\n",
       "     'value': 'Forrest Gump is a 1994 American comedy-drama film directed by Robert Zemeckis and written by Eric Roth. It is based on the 1986 novel of the same name by Winston Groom and stars Tom Hanks, Robin Wright, Gary Sinise, Mykelti Williamson and Sally Field. The story depicts several decades in the life of Forrest Gump (Hanks), a slow-witted and kindhearted man from Alabama who witnesses and unwittingly influences several defining historical events in the 20th-century United States. The film differs substantially from the novel. Principal photography took place between August and December 1993, mainly in Georgia, North Carolina and South Carolina. Extensive visual effects were used to incorporate Hanks into archived footage and to develop other scenes. The soundtrack features songs reflecting the different periods seen in the film. Forrest Gump was released in the United States on July 6, 1994, and received generally favorable reviews for Zemeckis\\'s direction, performances (particularly that of Hanks and Sinise), visual effects, music, and screenplay. The film was an enormous success at the box office; it became the top-grossing film in America released that year and earned over US$677 million worldwide during its theatrical run, making it the second-highest-grossing film of 1994, behind The Lion King. The soundtrack sold over 12 million copies. Forrest Gump won six Academy Awards: Best Picture, Best Director, Best Actor for Hanks, Best Adapted Screenplay, Best Visual Effects, and Best Film Editing. It received many award nominations, including Golden Globes, British Academy Film Awards and Screen Actors Guild Awards. Varying interpretations have been made of the protagonist and the film\\'s political symbolism. In 2011, the Library of Congress selected the film for preservation in the United States National Film Registry as being \"culturally, historically, or aesthetically significant\". An official Indian film remake Laal Singh Chaddha starring Aamir Khan and Kareena Kapoor Khan is scheduled to be released on April 14, 2022.'}},\n",
       "   {'name': {'type': 'literal', 'xml:lang': 'en', 'value': 'Forrest Gump'},\n",
       "    'director': {'type': 'uri',\n",
       "     'value': 'http://dbpedia.org/resource/Robert_Zemeckis'},\n",
       "    'country': {'type': 'literal', 'xml:lang': 'en', 'value': 'United States'},\n",
       "    'starring': {'type': 'literal', 'xml:lang': 'en', 'value': 'Sally Field'},\n",
       "    'abstract': {'type': 'literal',\n",
       "     'xml:lang': 'en',\n",
       "     'value': 'Forrest Gump is a 1994 American comedy-drama film directed by Robert Zemeckis and written by Eric Roth. It is based on the 1986 novel of the same name by Winston Groom and stars Tom Hanks, Robin Wright, Gary Sinise, Mykelti Williamson and Sally Field. The story depicts several decades in the life of Forrest Gump (Hanks), a slow-witted and kindhearted man from Alabama who witnesses and unwittingly influences several defining historical events in the 20th-century United States. The film differs substantially from the novel. Principal photography took place between August and December 1993, mainly in Georgia, North Carolina and South Carolina. Extensive visual effects were used to incorporate Hanks into archived footage and to develop other scenes. The soundtrack features songs reflecting the different periods seen in the film. Forrest Gump was released in the United States on July 6, 1994, and received generally favorable reviews for Zemeckis\\'s direction, performances (particularly that of Hanks and Sinise), visual effects, music, and screenplay. The film was an enormous success at the box office; it became the top-grossing film in America released that year and earned over US$677 million worldwide during its theatrical run, making it the second-highest-grossing film of 1994, behind The Lion King. The soundtrack sold over 12 million copies. Forrest Gump won six Academy Awards: Best Picture, Best Director, Best Actor for Hanks, Best Adapted Screenplay, Best Visual Effects, and Best Film Editing. It received many award nominations, including Golden Globes, British Academy Film Awards and Screen Actors Guild Awards. Varying interpretations have been made of the protagonist and the film\\'s political symbolism. In 2011, the Library of Congress selected the film for preservation in the United States National Film Registry as being \"culturally, historically, or aesthetically significant\". An official Indian film remake Laal Singh Chaddha starring Aamir Khan and Kareena Kapoor Khan is scheduled to be released on April 14, 2022.'}}]}}"
      ]
     },
     "execution_count": 48,
     "metadata": {},
     "output_type": "execute_result"
    }
   ],
   "source": [
    "titulo='Forrest_Gump'\n",
    "query='''\n",
    "    SELECT ?name ?director ?country ?starring ?abstract\n",
    "    WHERE { dbr:Forrest_Gump dbp:name ?name .\n",
    "            dbr:Forrest_Gump dbo:director ?director .\n",
    "            dbr:Forrest_Gump dbp:country ?country .\n",
    "            dbr:Forrest_Gump dbp:starring ?starring .\n",
    "            dbr:Forrest_Gump dbo:abstract ?abstract .\n",
    "\n",
    "            FILTER (lang(?abstract) = 'en')\n",
    "    }'''\n",
    "sparql.setQuery(query)\n",
    "sparql.setReturnFormat(JSON)\n",
    "qres = sparql.query().convert()\n",
    "qres"
   ]
  },
  {
   "cell_type": "code",
   "execution_count": 42,
   "id": "6644637d",
   "metadata": {},
   "outputs": [
    {
     "data": {
      "text/plain": [
       "{'head': {'link': [], 'vars': ['f']},\n",
       " 'results': {'distinct': False, 'ordered': True, 'bindings': []}}"
      ]
     },
     "execution_count": 42,
     "metadata": {},
     "output_type": "execute_result"
    }
   ],
   "source": [
    "# def find_movies_by_actor(name):\n",
    "\"\"\"Function for search troght sparql films by actor\n",
    "\"\"\"\n",
    "query = '''\n",
    "SELECT ?f \n",
    "WHERE {\n",
    "?f rdf:type dbo:Film .\n",
    "?f dbo:starring dbr:Tom_Hanks .\n",
    "\n",
    "FILTER (lang(?abstract) = 'en')\n",
    "\n",
    "SELECT ?name ?director ?country ?starring ?abstract\n",
    "        WHERE { \n",
    "                \n",
    "                \n",
    "                dbr:'''+titulo+''' dbp:starring ?starring .\n",
    "                dbr:'''+titulo+''' dbo:abstract ?abstract .\n",
    "                ?f rdf:type dbo:Film .\n",
    "                ?f dbo:starring dbr:Tom_Hanks .\n",
    "\n",
    "                FILTER (lang(?abstract) = 'en')\n",
    "\n",
    "}\n",
    "'''\n",
    "    \n",
    "sparql.setQuery(query)\n",
    "\n",
    "sparql.setReturnFormat(JSON)\n",
    "qres = sparql.query().convert()\n",
    "qres"
   ]
  },
  {
   "cell_type": "code",
   "execution_count": 44,
   "id": "830f107b",
   "metadata": {},
   "outputs": [
    {
     "ename": "SyntaxError",
     "evalue": "unmatched ')' (1134134871.py, line 10)",
     "output_type": "error",
     "traceback": [
      "\u001b[1;36m  Input \u001b[1;32mIn [44]\u001b[1;36m\u001b[0m\n\u001b[1;33m    }''')\u001b[0m\n\u001b[1;37m        ^\u001b[0m\n\u001b[1;31mSyntaxError\u001b[0m\u001b[1;31m:\u001b[0m unmatched ')'\n"
     ]
    }
   ],
   "source": [
    "'''\n",
    "SELECT ?name ?director ?country ?starring ?abstract\n",
    "WHERE { dbr:'''+titulo+''' dbp:name ?name .\n",
    "        dbr:'''+titulo+''' dbo:director ?director .\n",
    "        dbr:'''+titulo+''' dbp:country ?country .\n",
    "        dbr:'''+titulo+''' dbp:starring ?starring .\n",
    "        dbr:'''+titulo+''' dbo:abstract ?abstract .\n",
    "\n",
    "        FILTER (lang(?abstract) = 'en')\n",
    "}''')\n",
    "sparql.setReturnFormat(JSON)\n",
    "qres = sparql.query().convert()"
   ]
  },
  {
   "cell_type": "code",
   "execution_count": 56,
   "id": "7968cb21",
   "metadata": {},
   "outputs": [],
   "source": [
    "def detallePelicula(titulo):\n",
    "    sparql.setQuery('''\n",
    "        SELECT ?name ?director ?country ?starring ?abstract\n",
    "        WHERE { dbr:'''+titulo+''' dbp:name ?name .\n",
    "                dbr:'''+titulo+''' dbo:director ?director .\n",
    "                dbr:'''+titulo+''' dbp:country ?country .\n",
    "                dbr:'''+titulo+''' dbp:starring ?starring .\n",
    "                dbr:'''+titulo+''' dbo:abstract ?abstract .\n",
    "\n",
    "                FILTER (lang(?abstract) = 'en')\n",
    "        }''')\n",
    "    sparql.setReturnFormat(JSON)\n",
    "    qres = sparql.query().convert()\n",
    "    \n",
    "    diccionarios = []\n",
    "    for res in qres[\"results\"][\"bindings\"]:\n",
    "        dic ={\n",
    "            \"name\":res[\"name\"][\"value\"],\n",
    "            \"director\":res[\"director\"][\"value\"].split(\"/\")[-1],\n",
    "            \"country\":res[\"country\"][\"value\"],\n",
    "            \"abstract\":res[\"abstract\"][\"value\"],\n",
    "            \"starring\":res[\"starring\"][\"value\"].split(\"/\")[-1]\n",
    "        }\n",
    "        diccionarios.append(dic)\n",
    "    print(len(diccionarios))\n",
    "    \n",
    "    dics_string = json.dumps(diccionarios)  \n",
    "    a_json = json.loads(dics_string)\n",
    "    dataframe = pd.DataFrame.from_dict(a_json)\n",
    "    dataframe.drop_duplicates()\n",
    "    \n",
    "    return dataframe"
   ]
  },
  {
   "cell_type": "code",
   "execution_count": 52,
   "id": "f1c946ed",
   "metadata": {},
   "outputs": [],
   "source": [
    "import pyvis\n",
    "from pyvis.network import Network\n",
    "import networkx as nx\n",
    "import json"
   ]
  },
  {
   "cell_type": "code",
   "execution_count": 57,
   "id": "f412a2be",
   "metadata": {},
   "outputs": [],
   "source": [
    "def grafo(df):\n",
    "    G = nx.Graph()\n",
    "\n",
    "    for a in df.itertuples():\n",
    "        if a.starring != \"\":\n",
    "            G.add_node(a.starring, size=\"20\",labelHighlightBold=True)\n",
    "            G.add_edge(a.starring, a.name)\n",
    "\n",
    "    \n",
    "    net = Network(notebook=True,directed=True)\n",
    "\n",
    "    net.from_nx(G)\n",
    "    #net.show_buttons()\n",
    "    net.repulsion(node_distance=150, spring_length=100,central_gravity=0.5)\n",
    "    return net.show(\"example.html\")"
   ]
  },
  {
   "cell_type": "code",
   "execution_count": 58,
   "id": "3b359fe8",
   "metadata": {},
   "outputs": [],
   "source": [
    "def nuevo(titulo):\n",
    "    dataframe = detallePelicula(titulo)\n",
    "    dataframe.reset_index()\n",
    "    dataframe.drop_duplicates()\n",
    "    return dataframe\n",
    "\n",
    "def enriquecer(dataframe,titulo):\n",
    "    df=dataframe.append(detallePelicula(titulo))\n",
    "    df.reset_index()\n",
    "    df.drop_duplicates()\n",
    "    return df"
   ]
  },
  {
   "cell_type": "code",
   "execution_count": 68,
   "id": "0669ab16",
   "metadata": {},
   "outputs": [
    {
     "name": "stdout",
     "output_type": "stream",
     "text": [
      "12\n"
     ]
    },
    {
     "data": {
      "text/html": [
       "\n",
       "        <iframe\n",
       "            width=\"500px\"\n",
       "            height=\"500px\"\n",
       "            src=\"example.html\"\n",
       "            frameborder=\"0\"\n",
       "            allowfullscreen\n",
       "            \n",
       "        ></iframe>\n",
       "        "
      ],
      "text/plain": [
       "<IPython.lib.display.IFrame at 0x2acf8b51790>"
      ]
     },
     "execution_count": 68,
     "metadata": {},
     "output_type": "execute_result"
    }
   ],
   "source": [
    "dataframe = nuevo(\"Toy_Story_3\")\n",
    "dataframe\n",
    "grafo(dataframe)"
   ]
  }
 ],
 "metadata": {
  "kernelspec": {
   "display_name": "Python 3 (ipykernel)",
   "language": "python",
   "name": "python3"
  },
  "language_info": {
   "codemirror_mode": {
    "name": "ipython",
    "version": 3
   },
   "file_extension": ".py",
   "mimetype": "text/x-python",
   "name": "python",
   "nbconvert_exporter": "python",
   "pygments_lexer": "ipython3",
   "version": "3.9.5"
  }
 },
 "nbformat": 4,
 "nbformat_minor": 5
}
